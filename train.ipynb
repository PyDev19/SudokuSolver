{
 "cells": [
  {
   "cell_type": "code",
   "execution_count": 1,
   "metadata": {},
   "outputs": [],
   "source": [
    "%load_ext autoreload\n",
    "%autoreload 2"
   ]
  },
  {
   "cell_type": "code",
   "execution_count": 2,
   "metadata": {},
   "outputs": [],
   "source": [
    "hyperparameters = {\n",
    "    'num_classes': 10,\n",
    "    'hidden_dim': 1024,\n",
    "    'cnn_channels': [32, 64, 128, 256],\n",
    "    'lr': 1e-3,\n",
    "    'batch_size': 64,\n",
    "    'val_split': 0.2,\n",
    "    'test_split': 0.2,\n",
    "    'num_workers': 4,\n",
    "    'max_epochs': 10,\n",
    "}"
   ]
  },
  {
   "cell_type": "code",
   "execution_count": 3,
   "metadata": {},
   "outputs": [],
   "source": [
    "import pandas as pd\n",
    "from dataset import SudokuDataModule\n",
    "\n",
    "data = pd.read_csv('data/sudoku_small.csv')\n",
    "dataset = SudokuDataModule(data, hyperparameters)"
   ]
  },
  {
   "cell_type": "code",
   "execution_count": 4,
   "metadata": {},
   "outputs": [
    {
     "data": {
      "text/plain": [
       "   | Name              | Type       | Params | Mode  | In sizes       | Out sizes     \n",
       "--------------------------------------------------------------------------------------------\n",
       "0  | cnn_layers        | Sequential | 387 K  | train | [1, 1, 9, 9]   | [1, 256, 9, 9]\n",
       "1  | cnn_layers.conv_0 | Conv2d     | 320    | train | [1, 1, 9, 9]   | [1, 32, 9, 9] \n",
       "2  | cnn_layers.relu_0 | ReLU       | 0      | train | [1, 32, 9, 9]  | [1, 32, 9, 9] \n",
       "3  | cnn_layers.conv_1 | Conv2d     | 18.5 K | train | [1, 32, 9, 9]  | [1, 64, 9, 9] \n",
       "4  | cnn_layers.relu_1 | ReLU       | 0      | train | [1, 64, 9, 9]  | [1, 64, 9, 9] \n",
       "5  | cnn_layers.conv_2 | Conv2d     | 73.9 K | train | [1, 64, 9, 9]  | [1, 128, 9, 9]\n",
       "6  | cnn_layers.relu_2 | ReLU       | 0      | train | [1, 128, 9, 9] | [1, 128, 9, 9]\n",
       "7  | cnn_layers.conv_3 | Conv2d     | 295 K  | train | [1, 128, 9, 9] | [1, 256, 9, 9]\n",
       "8  | cnn_layers.relu_3 | ReLU       | 0      | train | [1, 256, 9, 9] | [1, 256, 9, 9]\n",
       "9  | fc_hidden         | Linear     | 21.2 M | train | [1, 20736]     | [1, 1024]     \n",
       "10 | fc_output         | Linear     | 830 K  | train | [1, 1024]      | [1, 810]      \n",
       "--------------------------------------------------------------------------------------------\n",
       "22.5 M    Trainable params\n",
       "0         Non-trainable params\n",
       "22.5 M    Total params\n",
       "89.811    Total estimated model params size (MB)"
      ]
     },
     "execution_count": 4,
     "metadata": {},
     "output_type": "execute_result"
    }
   ],
   "source": [
    "from model import SudokuSolverCNN\n",
    "from lightning.pytorch.utilities.model_summary import ModelSummary\n",
    "\n",
    "model = SudokuSolverCNN(hyperparameters)\n",
    "ModelSummary(model, max_depth=2)"
   ]
  },
  {
   "cell_type": "code",
   "execution_count": 5,
   "metadata": {},
   "outputs": [
    {
     "name": "stderr",
     "output_type": "stream",
     "text": [
      "GPU available: False, used: False\n",
      "TPU available: False, using: 0 TPU cores\n",
      "HPU available: False, using: 0 HPUs\n"
     ]
    }
   ],
   "source": [
    "from pytorch_lightning import Trainer\n",
    "from pytorch_lightning.tuner.tuning import Tuner\n",
    "from pytorch_lightning.loggers import TensorBoardLogger\n",
    "from pytorch_lightning.callbacks import ModelCheckpoint, EarlyStopping, LearningRateMonitor\n",
    "\n",
    "trainer = Trainer(\n",
    "    max_epochs=10,\n",
    "    logger=TensorBoardLogger('logs', name='sudoku-solver', log_graph=True),\n",
    "    callbacks=[\n",
    "        ModelCheckpoint(monitor='val_loss', save_top_k=1, mode='min'),\n",
    "        EarlyStopping(monitor='val_loss', patience=5, mode='min'),\n",
    "        LearningRateMonitor(logging_interval='step')\n",
    "    ],\n",
    "    enable_checkpointing=True,\n",
    "    enable_progress_bar=True,\n",
    ")\n",
    "tuner = Tuner(trainer)"
   ]
  },
  {
   "cell_type": "code",
   "execution_count": 6,
   "metadata": {},
   "outputs": [
    {
     "name": "stdout",
     "output_type": "stream",
     "text": [
      "Train size: 600000\n",
      "Val size: 200000\n",
      "Test size: 200000\n"
     ]
    },
    {
     "data": {
      "application/vnd.jupyter.widget-view+json": {
       "model_id": "1c15c22743df4f7495116c98bbe4dc47",
       "version_major": 2,
       "version_minor": 0
      },
      "text/plain": [
       "Finding best initial lr:   0%|          | 0/9375 [00:00<?, ?it/s]"
      ]
     },
     "metadata": {},
     "output_type": "display_data"
    },
    {
     "name": "stderr",
     "output_type": "stream",
     "text": [
      "`Trainer.fit` stopped: `max_steps=9375` reached.\n",
      "Learning rate set to 0.0045781849496414105\n",
      "Restoring states from the checkpoint path at /home/atharva/Documents/SudokuSolver/.lr_find_6499c3c8-ae99-4c3c-9fcd-5ca1b2e77e24.ckpt\n",
      "Restored all states from the checkpoint at /home/atharva/Documents/SudokuSolver/.lr_find_6499c3c8-ae99-4c3c-9fcd-5ca1b2e77e24.ckpt\n"
     ]
    },
    {
     "data": {
      "text/plain": [
       "<pytorch_lightning.tuner.lr_finder._LRFinder at 0x7f31625f2cc0>"
      ]
     },
     "execution_count": 6,
     "metadata": {},
     "output_type": "execute_result"
    }
   ],
   "source": [
    "tuner.lr_find(model, datamodule=dataset, max_lr=10, min_lr=1e-10, num_training=9375)"
   ]
  },
  {
   "cell_type": "code",
   "execution_count": 7,
   "metadata": {},
   "outputs": [
    {
     "name": "stderr",
     "output_type": "stream",
     "text": [
      "\n",
      "  | Name       | Type       | Params | Mode  | In sizes     | Out sizes     \n",
      "----------------------------------------------------------------------------------\n",
      "0 | cnn_layers | Sequential | 387 K  | train | [1, 1, 9, 9] | [1, 256, 9, 9]\n",
      "1 | fc_hidden  | Linear     | 21.2 M | train | [1, 20736]   | [1, 1024]     \n",
      "2 | fc_output  | Linear     | 830 K  | train | [1, 1024]    | [1, 810]      \n",
      "----------------------------------------------------------------------------------\n",
      "22.5 M    Trainable params\n",
      "0         Non-trainable params\n",
      "22.5 M    Total params\n",
      "89.811    Total estimated model params size (MB)\n"
     ]
    },
    {
     "name": "stdout",
     "output_type": "stream",
     "text": [
      "Train size: 600000\n",
      "Val size: 200000\n",
      "Test size: 200000\n"
     ]
    },
    {
     "data": {
      "application/vnd.jupyter.widget-view+json": {
       "model_id": "b1566fcd42f44f9eafc9ae92517d1fcd",
       "version_major": 2,
       "version_minor": 0
      },
      "text/plain": [
       "Sanity Checking: |          | 0/? [00:00<?, ?it/s]"
      ]
     },
     "metadata": {},
     "output_type": "display_data"
    },
    {
     "data": {
      "application/vnd.jupyter.widget-view+json": {
       "model_id": "6d92d66e2efb42d398e0c1fb9236b8f9",
       "version_major": 2,
       "version_minor": 0
      },
      "text/plain": [
       "Training: |          | 0/? [00:00<?, ?it/s]"
      ]
     },
     "metadata": {},
     "output_type": "display_data"
    },
    {
     "name": "stderr",
     "output_type": "stream",
     "text": [
      "/home/atharva/virtual_envs/ml_env/lib64/python3.12/site-packages/pytorch_lightning/trainer/call.py:54: Detected KeyboardInterrupt, attempting graceful shutdown...\n"
     ]
    }
   ],
   "source": [
    "trainer.fit(model, datamodule=dataset)"
   ]
  },
  {
   "cell_type": "code",
   "execution_count": null,
   "metadata": {},
   "outputs": [],
   "source": [
    "trainer.test(model, datamodule=dataset)"
   ]
  }
 ],
 "metadata": {
  "kernelspec": {
   "display_name": "ml_env",
   "language": "python",
   "name": "python3"
  },
  "language_info": {
   "codemirror_mode": {
    "name": "ipython",
    "version": 3
   },
   "file_extension": ".py",
   "mimetype": "text/x-python",
   "name": "python",
   "nbconvert_exporter": "python",
   "pygments_lexer": "ipython3",
   "version": "3.12.4"
  }
 },
 "nbformat": 4,
 "nbformat_minor": 2
}
