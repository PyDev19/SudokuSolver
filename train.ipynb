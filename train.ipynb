{
 "cells": [
  {
   "cell_type": "code",
   "execution_count": null,
   "metadata": {},
   "outputs": [],
   "source": [
    "%load_ext autoreload\n",
    "%autoreload 2"
   ]
  },
  {
   "cell_type": "code",
   "execution_count": null,
   "metadata": {},
   "outputs": [],
   "source": [
    "hyperparameters = {\n",
    "    'num_classes': 9,\n",
    "    'cnn_channels': [32, 64, 128, 256, 512, 9],\n",
    "    'lr': 1e-4,\n",
    "    'batch_size': 64,\n",
    "    'val_split': 0.2,\n",
    "    'test_split': 0.2,\n",
    "    'num_workers': 4,\n",
    "    'max_epochs': 50,\n",
    "}"
   ]
  },
  {
   "cell_type": "code",
   "execution_count": null,
   "metadata": {},
   "outputs": [],
   "source": [
    "import pandas as pd\n",
    "from dataset import SudokuDataModule\n",
    "\n",
    "data = pd.read_csv('data/sudoku_small.csv')\n",
    "dataset = SudokuDataModule(data, hyperparameters)"
   ]
  },
  {
   "cell_type": "code",
   "execution_count": null,
   "metadata": {},
   "outputs": [],
   "source": [
    "from model import SudokuSolverCNN\n",
    "from lightning.pytorch.utilities.model_summary import ModelSummary\n",
    "\n",
    "model = SudokuSolverCNN(hyperparameters)\n",
    "ModelSummary(model, max_depth=2)"
   ]
  },
  {
   "cell_type": "code",
   "execution_count": null,
   "metadata": {},
   "outputs": [],
   "source": [
    "from pytorch_lightning import Trainer\n",
    "from pytorch_lightning.tuner.tuning import Tuner\n",
    "from pytorch_lightning.loggers import TensorBoardLogger\n",
    "from pytorch_lightning.callbacks import ModelCheckpoint, EarlyStopping, LearningRateMonitor\n",
    "\n",
    "trainer = Trainer(\n",
    "    max_epochs=10,\n",
    "    logger=TensorBoardLogger('logs', name='sudoku-solver', log_graph=True),\n",
    "    callbacks=[\n",
    "        ModelCheckpoint(monitor='val_loss', save_top_k=1, mode='min'),\n",
    "        EarlyStopping(monitor='val_loss', patience=5, mode='min'),\n",
    "        LearningRateMonitor(logging_interval='step')\n",
    "    ],\n",
    "    enable_checkpointing=True,\n",
    "    enable_progress_bar=True,\n",
    ")"
   ]
  },
  {
   "cell_type": "code",
   "execution_count": null,
   "metadata": {},
   "outputs": [],
   "source": [
    "trainer.fit(model, datamodule=dataset)"
   ]
  },
  {
   "cell_type": "code",
   "execution_count": null,
   "metadata": {},
   "outputs": [],
   "source": [
    "trainer.test(model, datamodule=dataset)"
   ]
  },
  {
   "cell_type": "code",
   "execution_count": null,
   "metadata": {},
   "outputs": [],
   "source": [
    "import torch\n",
    "\n",
    "\n",
    "puzzle = \"020008004090100600003000010901400008000000302005083007004000920700300850000256403\"\n",
    "puzzle_grid = [int(x) for x in puzzle]\n",
    "puzzle_tensor = torch.tensor(puzzle_grid, dtype=torch.float32).view(1, 9, 9).unsqueeze(1)\n",
    "puzzle_tensor"
   ]
  },
  {
   "cell_type": "code",
   "execution_count": null,
   "metadata": {},
   "outputs": [],
   "source": [
    "solution = model(puzzle_tensor)\n",
    "solution.argmax(dim=1).view(9, 9) + 1"
   ]
  }
 ],
 "metadata": {
  "kernelspec": {
   "display_name": "ml_env",
   "language": "python",
   "name": "python3"
  },
  "language_info": {
   "codemirror_mode": {
    "name": "ipython",
    "version": 3
   },
   "file_extension": ".py",
   "mimetype": "text/x-python",
   "name": "python",
   "nbconvert_exporter": "python",
   "pygments_lexer": "ipython3",
   "version": "3.12.4"
  }
 },
 "nbformat": 4,
 "nbformat_minor": 2
}
