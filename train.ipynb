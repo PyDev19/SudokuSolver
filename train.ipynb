{
 "cells": [
  {
   "cell_type": "code",
   "execution_count": null,
   "metadata": {},
   "outputs": [],
   "source": [
    "%load_ext autoreload\n",
    "%autoreload 2"
   ]
  },
  {
   "cell_type": "code",
   "execution_count": null,
   "metadata": {},
   "outputs": [],
   "source": [
    "hyperparameters = {\n",
    "    'vocab_size': 10,\n",
    "    'embed_size': 128,\n",
    "    'hidden_size': 256,\n",
    "    'num_layers': 2,\n",
    "    'lr': 1e-3,\n",
    "    'batch_size': 64,\n",
    "    'val_split': 0.2,\n",
    "    'test_split': 0.2,\n",
    "    'num_workers': 4,\n",
    "    'max_epochs': 10,\n",
    "    'warmup_steps': 1000,\n",
    "}"
   ]
  },
  {
   "cell_type": "code",
   "execution_count": null,
   "metadata": {},
   "outputs": [],
   "source": [
    "import pandas as pd\n",
    "from dataset import SudokuDataModule\n",
    "\n",
    "data = pd.read_csv('data/sudoku_small.csv')\n",
    "dataset = SudokuDataModule(data, hyperparameters)"
   ]
  },
  {
   "cell_type": "code",
   "execution_count": null,
   "metadata": {},
   "outputs": [],
   "source": [
    "from model import SudokuSolver\n",
    "from lightning.pytorch.utilities.model_summary import ModelSummary\n",
    "\n",
    "model = SudokuSolver(hyperparameters)\n",
    "ModelSummary(model, max_depth=1)"
   ]
  },
  {
   "cell_type": "code",
   "execution_count": null,
   "metadata": {},
   "outputs": [],
   "source": [
    "from pytorch_lightning import Trainer\n",
    "from pytorch_lightning.tuner.tuning import Tuner\n",
    "from pytorch_lightning.loggers import TensorBoardLogger\n",
    "from pytorch_lightning.callbacks import ModelCheckpoint, EarlyStopping, LearningRateMonitor\n",
    "\n",
    "trainer = Trainer(\n",
    "    max_epochs=10,\n",
    "    logger=TensorBoardLogger('logs', name='sudoku-solver', log_graph=True),\n",
    "    callbacks=[\n",
    "        ModelCheckpoint(monitor='val_loss', save_top_k=1, mode='min'),\n",
    "        EarlyStopping(monitor='val_loss', patience=5, mode='min'),\n",
    "        LearningRateMonitor(logging_interval='step')\n",
    "    ],\n",
    "    enable_checkpointing=True,\n",
    "    enable_progress_bar=True,\n",
    ")\n",
    "tuner = Tuner(trainer)"
   ]
  },
  {
   "cell_type": "code",
   "execution_count": null,
   "metadata": {},
   "outputs": [],
   "source": [
    "tuner.lr_find(model, datamodule=dataset, min_lr=1e-10, max_lr=10, num_training=1000)"
   ]
  },
  {
   "cell_type": "code",
   "execution_count": null,
   "metadata": {},
   "outputs": [],
   "source": [
    "trainer.fit(model, datamodule=dataset)"
   ]
  },
  {
   "cell_type": "code",
   "execution_count": null,
   "metadata": {},
   "outputs": [],
   "source": [
    "trainer.test(model, datamodule=dataset)"
   ]
  }
 ],
 "metadata": {
  "kernelspec": {
   "display_name": "ml_env",
   "language": "python",
   "name": "python3"
  },
  "language_info": {
   "codemirror_mode": {
    "name": "ipython",
    "version": 3
   },
   "file_extension": ".py",
   "mimetype": "text/x-python",
   "name": "python",
   "nbconvert_exporter": "python",
   "pygments_lexer": "ipython3",
   "version": "3.12.4"
  }
 },
 "nbformat": 4,
 "nbformat_minor": 2
}
